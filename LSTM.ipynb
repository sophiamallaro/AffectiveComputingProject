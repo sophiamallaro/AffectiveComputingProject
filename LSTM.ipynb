{
 "cells": [
  {
   "cell_type": "markdown",
   "metadata": {},
   "source": [
    "### Get arrays and annotations"
   ]
  },
  {
   "cell_type": "code",
   "execution_count": 2,
   "metadata": {},
   "outputs": [
    {
     "name": "stdout",
     "output_type": "stream",
     "text": [
      "N_arrays = 1802, N_ids = 1802\n",
      "id_to_annotation: Length = 1802\n",
      "Shape of first 5 arrays: (224, 260) (595, 260) (423, 260) (88, 260) (88, 260)\n",
      "\n",
      "First array\n",
      "[[ 3.220214e+01  4.732088e+01  3.005607e-01 ... -1.217681e-01\n",
      "   1.500598e+00 -1.187273e-01]\n",
      " [ 2.448522e+01  6.520026e+01  2.075381e-02 ...  4.512318e-02\n",
      "   1.284054e+00  7.781623e-02]\n",
      " [ 7.830985e+01  9.389572e+01  2.214237e-02 ... -1.268222e-02\n",
      "   1.521996e+00 -8.627687e-03]\n",
      " ...\n",
      " [ 1.247303e-01  5.512440e+01  3.664538e-03 ...  2.325155e-02\n",
      "   9.236774e-01  3.972320e-02]\n",
      " [ 1.059528e+01  5.830891e+01  2.850553e-02 ...  5.302914e-02\n",
      "   1.256330e+00  1.650663e-02]\n",
      " [ 3.453281e+01  3.737027e+01  3.949210e-01 ... -8.443007e-02\n",
      "   1.369008e+00  3.063905e-02]]\n"
     ]
    }
   ],
   "source": [
    "from get_data import get_arrays, get_static_annotations\n",
    "\n",
    "arrays, ids = get_arrays()\n",
    "id_to_annotation = get_static_annotations()\n",
    "\n",
    "print(\"N_arrays = {}, N_ids = {}\".format(len(arrays), len(ids)))\n",
    "print(\"id_to_annotation: Length = {}\".format(len(id_to_annotation)))\n",
    "\n",
    "print(\"Shape of first 5 arrays: {} {} {} {} {}\".format(arrays[0].shape,arrays[1].shape,arrays[2].shape,arrays[3].shape,arrays[4].shape))\n",
    "print()\n",
    "print(\"First array\")\n",
    "print(arrays[0])"
   ]
  },
  {
   "cell_type": "markdown",
   "metadata": {},
   "source": [
    "### Split into Development and Evaluation Arrays"
   ]
  },
  {
   "cell_type": "code",
   "execution_count": 7,
   "metadata": {},
   "outputs": [
    {
     "name": "stdout",
     "output_type": "stream",
     "text": [
      "Dev Arrays: N_arrays = 1744\n",
      "Eval Arrays: N_arrays = 58\n"
     ]
    }
   ],
   "source": [
    "import numpy as np\n",
    "\n",
    "dev_arrays = []; dev_valence = []; dev_arousal = [];\n",
    "eval_arrays = []; eval_valence = []; eval_arousal = [];\n",
    "\n",
    "for array, id_ in zip(arrays, ids):\n",
    "    if id_ <= 2000:\n",
    "        dev_arrays.append(array)\n",
    "        dev_valence.append(id_to_annotation[id_][\"valence\"])\n",
    "        dev_arousal.append(id_to_annotation[id_][\"arousal\"])\n",
    "    else:\n",
    "        eval_arrays.append(array)\n",
    "        eval_valence.append(id_to_annotation[id_][\"valence\"])\n",
    "        eval_arousal.append(id_to_annotation[id_][\"arousal\"])\n",
    "\n",
    "dev_valence = np.array(dev_valence)\n",
    "dev_arousal = np.array(dev_arousal)\n",
    "eval_valence = np.array(eval_valence)\n",
    "eval_arousal = np.array(eval_arousal)\n",
    "        \n",
    "print(\"Dev Arrays: N_arrays = {}\".format(len(dev_arrays)))\n",
    "print(\"Eval Arrays: N_arrays = {}\".format(len(eval_arrays)))"
   ]
  },
  {
   "cell_type": "markdown",
   "metadata": {},
   "source": [
    "### Find statistics of sequence lengths"
   ]
  },
  {
   "cell_type": "code",
   "execution_count": 9,
   "metadata": {},
   "outputs": [
    {
     "name": "stdout",
     "output_type": "stream",
     "text": [
      "Dev Arrays Seq Lengths: Max = 1170, Min = 88, Mean = 246.89, Median = 88.0, 75%tile = 88.0\n",
      "Eval Arrays Seq Lengths: Max = 1253, Min = 97, Mean = 466.45, Median = 455.0, 75%tile = 103.4125\n"
     ]
    }
   ],
   "source": [
    "dev_seq_lengths = np.array([a.shape[0] for a in dev_arrays])\n",
    "eval_seq_lengths = np.array([a.shape[0] for a in eval_arrays])\n",
    "\n",
    "s = dev_seq_lengths\n",
    "print(\"Dev Arrays Seq Lengths: Max = {}, Min = {}, Mean = {:.2f}, Median = {}, 75%tile = {}\".format(np.max(s), np.min(s), np.mean(s), np.median(s), np.percentile(s, q=0.75)))\n",
    "s = eval_seq_lengths\n",
    "print(\"Eval Arrays Seq Lengths: Max = {}, Min = {}, Mean = {:.2f}, Median = {}, 75%tile = {}\".format(np.max(s), np.min(s), np.mean(s), np.median(s), np.percentile(s, q=0.75)))"
   ]
  },
  {
   "cell_type": "markdown",
   "metadata": {},
   "source": [
    "### Keras Import"
   ]
  },
  {
   "cell_type": "code",
   "execution_count": 10,
   "metadata": {},
   "outputs": [],
   "source": [
    "from keras import backend as K\n",
    "from keras.preprocessing.sequence import pad_sequences\n",
    "from keras.models import Sequential\n",
    "from keras.layers import LSTM, Dense, Activation, Dropout\n",
    "from keras.callbacks import EarlyStopping"
   ]
  },
  {
   "cell_type": "markdown",
   "metadata": {},
   "source": [
    "### Pad Sequences"
   ]
  },
  {
   "cell_type": "code",
   "execution_count": 12,
   "metadata": {},
   "outputs": [
    {
     "name": "stdout",
     "output_type": "stream",
     "text": [
      "Dev Set: Shape = (1744, 1300, 260), Data = float32\n",
      "Dev Set: Shape = (58, 1300, 260), Data = float32\n"
     ]
    }
   ],
   "source": [
    "dev_set = pad_sequences(dev_arrays, maxlen=1300, padding=\"pre\", truncating=\"pre\", dtype=\"float32\")\n",
    "eval_set = pad_sequences(eval_arrays, maxlen=1300, padding=\"pre\", truncating=\"pre\", dtype=\"float32\")\n",
    "\n",
    "print(\"Dev Set: Shape = {}, Data = {}\".format(dev_set.shape, dev_set.dtype))\n",
    "print(\"Dev Set: Shape = {}, Data = {}\".format(eval_set.shape, eval_set.dtype))"
   ]
  },
  {
   "cell_type": "markdown",
   "metadata": {},
   "source": [
    "### LSTM Model"
   ]
  },
  {
   "cell_type": "code",
   "execution_count": 22,
   "metadata": {},
   "outputs": [
    {
     "name": "stdout",
     "output_type": "stream",
     "text": [
      "_________________________________________________________________\n",
      "Layer (type)                 Output Shape              Param #   \n",
      "=================================================================\n",
      "lstm_4 (LSTM)                (None, 260)               541840    \n",
      "_________________________________________________________________\n",
      "dense_4 (Dense)              (None, 1)                 261       \n",
      "=================================================================\n",
      "Total params: 542,101\n",
      "Trainable params: 542,101\n",
      "Non-trainable params: 0\n",
      "_________________________________________________________________\n"
     ]
    }
   ],
   "source": [
    "model = Sequential()\n",
    "model.add(LSTM(input_shape = (1300, 260), units = 260, return_sequences=False))\n",
    "model.add(Dense(units=1))\n",
    "model.compile(optimizer=\"sgd\", loss=\"mean_squared_error\")\n",
    "model.summary()"
   ]
  },
  {
   "cell_type": "markdown",
   "metadata": {},
   "source": [
    "## Valence\n",
    "### Fit Model"
   ]
  },
  {
   "cell_type": "code",
   "execution_count": 25,
   "metadata": {},
   "outputs": [
    {
     "name": "stdout",
     "output_type": "stream",
     "text": [
      "Train on 1395 samples, validate on 349 samples\n",
      "Epoch 1/1\n",
      "1395/1395 [==============================] - 149s 107ms/step - loss: 1.5298 - val_loss: 1.4701\n"
     ]
    },
    {
     "data": {
      "text/plain": [
       "<keras.callbacks.History at 0x12b4ab2b0>"
      ]
     },
     "execution_count": 25,
     "metadata": {},
     "output_type": "execute_result"
    }
   ],
   "source": [
    "early_stopping = EarlyStopping(monitor='val_loss', patience=2)\n",
    "model.fit(dev_set, dev_valence, batch_size=32, validation_split=0.2, verbose=1, callbacks=[early_stopping])"
   ]
  },
  {
   "cell_type": "markdown",
   "metadata": {},
   "source": [
    "### Evaluate Model"
   ]
  },
  {
   "cell_type": "code",
   "execution_count": 26,
   "metadata": {},
   "outputs": [
    {
     "name": "stdout",
     "output_type": "stream",
     "text": [
      "58/58 [==============================] - 2s 32ms/step\n",
      "Eval Set: RMSE = 1.43\n"
     ]
    }
   ],
   "source": [
    "mse = model.evaluate(eval_set, eval_valence)\n",
    "print(\"Eval Set: RMSE = {:.2f}\".format(np.sqrt(mse)))"
   ]
  },
  {
   "cell_type": "code",
   "execution_count": null,
   "metadata": {},
   "outputs": [],
   "source": []
  }
 ],
 "metadata": {
  "kernelspec": {
   "display_name": "Python 3",
   "language": "python",
   "name": "python3"
  },
  "language_info": {
   "codemirror_mode": {
    "name": "ipython",
    "version": 3
   },
   "file_extension": ".py",
   "mimetype": "text/x-python",
   "name": "python",
   "nbconvert_exporter": "python",
   "pygments_lexer": "ipython3",
   "version": "3.6.6"
  }
 },
 "nbformat": 4,
 "nbformat_minor": 2
}
